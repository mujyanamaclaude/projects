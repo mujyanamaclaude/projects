{
 "cells": [
  {
   "cell_type": "code",
   "execution_count": 1,
   "metadata": {},
   "outputs": [],
   "source": [
    "import numpy as np\n",
    "import pandas as pd\n",
    "import matplotlib.pyplot as plt\n",
    "import seaborn as sns\n",
    "from scipy import stats\n",
    "from statsmodels.stats import weightstats as stests"
   ]
  },
  {
   "cell_type": "markdown",
   "metadata": {},
   "source": [
    "### Data to be analyzed has been imported "
   ]
  },
  {
   "cell_type": "code",
   "execution_count": 2,
   "metadata": {},
   "outputs": [],
   "source": [
    "data=pd.read_excel(r'C:\\Users\\hp user\\Downloads\\Assignment_2_Statistics\\StatisticalAnalysisDataset.xlsx')"
   ]
  },
  {
   "cell_type": "code",
   "execution_count": 3,
   "metadata": {
    "scrolled": true
   },
   "outputs": [
    {
     "data": {
      "text/html": [
       "<div>\n",
       "<style scoped>\n",
       "    .dataframe tbody tr th:only-of-type {\n",
       "        vertical-align: middle;\n",
       "    }\n",
       "\n",
       "    .dataframe tbody tr th {\n",
       "        vertical-align: top;\n",
       "    }\n",
       "\n",
       "    .dataframe thead th {\n",
       "        text-align: right;\n",
       "    }\n",
       "</style>\n",
       "<table border=\"1\" class=\"dataframe\">\n",
       "  <thead>\n",
       "    <tr style=\"text-align: right;\">\n",
       "      <th></th>\n",
       "      <th>number</th>\n",
       "      <th>priority</th>\n",
       "      <th>state</th>\n",
       "      <th>Ticket_class_name</th>\n",
       "      <th>MTTR</th>\n",
       "      <th>u_preferred_method_of_contact</th>\n",
       "    </tr>\n",
       "  </thead>\n",
       "  <tbody>\n",
       "    <tr>\n",
       "      <th>0</th>\n",
       "      <td>INC0586211</td>\n",
       "      <td>3 - Moderate</td>\n",
       "      <td>Closed</td>\n",
       "      <td>Incident</td>\n",
       "      <td>114</td>\n",
       "      <td>Instant Message</td>\n",
       "    </tr>\n",
       "    <tr>\n",
       "      <th>1</th>\n",
       "      <td>INC0586189</td>\n",
       "      <td>4 - Low</td>\n",
       "      <td>New</td>\n",
       "      <td>Incident</td>\n",
       "      <td>0</td>\n",
       "      <td>Email</td>\n",
       "    </tr>\n",
       "    <tr>\n",
       "      <th>2</th>\n",
       "      <td>INC0586151</td>\n",
       "      <td>3 - Moderate</td>\n",
       "      <td>Closed</td>\n",
       "      <td>Incident</td>\n",
       "      <td>1694</td>\n",
       "      <td>Phone</td>\n",
       "    </tr>\n",
       "    <tr>\n",
       "      <th>3</th>\n",
       "      <td>INC0586145</td>\n",
       "      <td>4 - Low</td>\n",
       "      <td>Closed</td>\n",
       "      <td>Incident</td>\n",
       "      <td>220</td>\n",
       "      <td>Phone</td>\n",
       "    </tr>\n",
       "    <tr>\n",
       "      <th>4</th>\n",
       "      <td>INC0586144</td>\n",
       "      <td>4 - Low</td>\n",
       "      <td>Closed</td>\n",
       "      <td>Incident</td>\n",
       "      <td>67</td>\n",
       "      <td>Phone</td>\n",
       "    </tr>\n",
       "  </tbody>\n",
       "</table>\n",
       "</div>"
      ],
      "text/plain": [
       "       number      priority   state Ticket_class_name  MTTR  \\\n",
       "0  INC0586211  3 - Moderate  Closed          Incident   114   \n",
       "1  INC0586189       4 - Low     New          Incident     0   \n",
       "2  INC0586151  3 - Moderate  Closed          Incident  1694   \n",
       "3  INC0586145       4 - Low  Closed          Incident   220   \n",
       "4  INC0586144       4 - Low  Closed          Incident    67   \n",
       "\n",
       "  u_preferred_method_of_contact  \n",
       "0               Instant Message  \n",
       "1                         Email  \n",
       "2                         Phone  \n",
       "3                         Phone  \n",
       "4                         Phone  "
      ]
     },
     "execution_count": 3,
     "metadata": {},
     "output_type": "execute_result"
    }
   ],
   "source": [
    "data.head()"
   ]
  },
  {
   "cell_type": "code",
   "execution_count": 4,
   "metadata": {
    "scrolled": false
   },
   "outputs": [
    {
     "data": {
      "text/plain": [
       "number                           object\n",
       "priority                         object\n",
       "state                            object\n",
       "Ticket_class_name                object\n",
       "MTTR                              int64\n",
       "u_preferred_method_of_contact    object\n",
       "dtype: object"
      ]
     },
     "execution_count": 4,
     "metadata": {},
     "output_type": "execute_result"
    }
   ],
   "source": [
    "data.dtypes"
   ]
  },
  {
   "cell_type": "code",
   "execution_count": 5,
   "metadata": {},
   "outputs": [
    {
     "data": {
      "text/plain": [
       "number                           0\n",
       "priority                         0\n",
       "state                            0\n",
       "Ticket_class_name                0\n",
       "MTTR                             0\n",
       "u_preferred_method_of_contact    0\n",
       "dtype: int64"
      ]
     },
     "execution_count": 5,
     "metadata": {},
     "output_type": "execute_result"
    }
   ],
   "source": [
    "data.isnull().sum()"
   ]
  },
  {
   "cell_type": "code",
   "execution_count": 6,
   "metadata": {},
   "outputs": [
    {
     "data": {
      "text/plain": [
       "Index(['number', 'priority', 'state', 'Ticket_class_name', 'MTTR',\n",
       "       'u_preferred_method_of_contact'],\n",
       "      dtype='object')"
      ]
     },
     "execution_count": 6,
     "metadata": {},
     "output_type": "execute_result"
    }
   ],
   "source": [
    "data.columns"
   ]
  },
  {
   "cell_type": "code",
   "execution_count": 7,
   "metadata": {},
   "outputs": [
    {
     "data": {
      "text/plain": [
       "(33984, 6)"
      ]
     },
     "execution_count": 7,
     "metadata": {},
     "output_type": "execute_result"
    }
   ],
   "source": [
    "data.shape"
   ]
  },
  {
   "cell_type": "code",
   "execution_count": 8,
   "metadata": {},
   "outputs": [
    {
     "name": "stdout",
     "output_type": "stream",
     "text": [
      "<class 'pandas.core.frame.DataFrame'>\n",
      "RangeIndex: 33984 entries, 0 to 33983\n",
      "Data columns (total 6 columns):\n",
      " #   Column                         Non-Null Count  Dtype \n",
      "---  ------                         --------------  ----- \n",
      " 0   number                         33984 non-null  object\n",
      " 1   priority                       33984 non-null  object\n",
      " 2   state                          33984 non-null  object\n",
      " 3   Ticket_class_name              33984 non-null  object\n",
      " 4   MTTR                           33984 non-null  int64 \n",
      " 5   u_preferred_method_of_contact  33984 non-null  object\n",
      "dtypes: int64(1), object(5)\n",
      "memory usage: 1.6+ MB\n"
     ]
    }
   ],
   "source": [
    "data.info()"
   ]
  },
  {
   "cell_type": "code",
   "execution_count": 9,
   "metadata": {},
   "outputs": [
    {
     "data": {
      "text/html": [
       "<div>\n",
       "<style scoped>\n",
       "    .dataframe tbody tr th:only-of-type {\n",
       "        vertical-align: middle;\n",
       "    }\n",
       "\n",
       "    .dataframe tbody tr th {\n",
       "        vertical-align: top;\n",
       "    }\n",
       "\n",
       "    .dataframe thead th {\n",
       "        text-align: right;\n",
       "    }\n",
       "</style>\n",
       "<table border=\"1\" class=\"dataframe\">\n",
       "  <thead>\n",
       "    <tr style=\"text-align: right;\">\n",
       "      <th></th>\n",
       "      <th>MTTR</th>\n",
       "    </tr>\n",
       "  </thead>\n",
       "  <tbody>\n",
       "    <tr>\n",
       "      <th>count</th>\n",
       "      <td>3.398400e+04</td>\n",
       "    </tr>\n",
       "    <tr>\n",
       "      <th>mean</th>\n",
       "      <td>1.949719e+04</td>\n",
       "    </tr>\n",
       "    <tr>\n",
       "      <th>std</th>\n",
       "      <td>1.279956e+05</td>\n",
       "    </tr>\n",
       "    <tr>\n",
       "      <th>min</th>\n",
       "      <td>0.000000e+00</td>\n",
       "    </tr>\n",
       "    <tr>\n",
       "      <th>25%</th>\n",
       "      <td>4.100000e+01</td>\n",
       "    </tr>\n",
       "    <tr>\n",
       "      <th>50%</th>\n",
       "      <td>1.880000e+02</td>\n",
       "    </tr>\n",
       "    <tr>\n",
       "      <th>75%</th>\n",
       "      <td>1.891250e+03</td>\n",
       "    </tr>\n",
       "    <tr>\n",
       "      <th>max</th>\n",
       "      <td>1.381603e+07</td>\n",
       "    </tr>\n",
       "  </tbody>\n",
       "</table>\n",
       "</div>"
      ],
      "text/plain": [
       "               MTTR\n",
       "count  3.398400e+04\n",
       "mean   1.949719e+04\n",
       "std    1.279956e+05\n",
       "min    0.000000e+00\n",
       "25%    4.100000e+01\n",
       "50%    1.880000e+02\n",
       "75%    1.891250e+03\n",
       "max    1.381603e+07"
      ]
     },
     "execution_count": 9,
     "metadata": {},
     "output_type": "execute_result"
    }
   ],
   "source": [
    "data.describe()"
   ]
  },
  {
   "cell_type": "markdown",
   "metadata": {},
   "source": [
    "### statistical analysis LEVEL 1\n",
    "(mean&median MTTR)"
   ]
  },
  {
   "cell_type": "code",
   "execution_count": 10,
   "metadata": {},
   "outputs": [
    {
     "data": {
      "text/plain": [
       "19497.185969868173"
      ]
     },
     "execution_count": 10,
     "metadata": {},
     "output_type": "execute_result"
    }
   ],
   "source": [
    "np.mean(data['MTTR'])"
   ]
  },
  {
   "cell_type": "code",
   "execution_count": 11,
   "metadata": {},
   "outputs": [
    {
     "data": {
      "text/plain": [
       "188.0"
      ]
     },
     "execution_count": 11,
     "metadata": {},
     "output_type": "execute_result"
    }
   ],
   "source": [
    "np.median(data['MTTR'])"
   ]
  },
  {
   "cell_type": "markdown",
   "metadata": {},
   "source": [
    "### frequency distribution based on priority of tickets"
   ]
  },
  {
   "cell_type": "code",
   "execution_count": 12,
   "metadata": {},
   "outputs": [],
   "source": [
    "data_priority=data['priority'].value_counts()"
   ]
  },
  {
   "cell_type": "code",
   "execution_count": 13,
   "metadata": {},
   "outputs": [
    {
     "data": {
      "text/plain": [
       "4 - Low              31409\n",
       "3 - Moderate          2306\n",
       "5 - Scheduled SLA      217\n",
       "2 - High                48\n",
       "1 - Critical             4\n",
       "Name: priority, dtype: int64"
      ]
     },
     "execution_count": 13,
     "metadata": {},
     "output_type": "execute_result"
    }
   ],
   "source": [
    "data_priority"
   ]
  },
  {
   "cell_type": "code",
   "execution_count": 14,
   "metadata": {
    "scrolled": false
   },
   "outputs": [
    {
     "data": {
      "text/plain": [
       "<function matplotlib.pyplot.show(*args, **kw)>"
      ]
     },
     "execution_count": 14,
     "metadata": {},
     "output_type": "execute_result"
    },
    {
     "data": {
      "image/png": "[encoded data removed]",
      "text/plain": [
       "<Figure size 432x288 with 1 Axes>"
      ]
     },
     "metadata": {
      "needs_background": "light"
     },
     "output_type": "display_data"
    }
   ],
   "source": [
    "sns.barplot(data_priority.index,data_priority.values)\n",
    "plt.title('frequency distribution')\n",
    "plt.xlabel('scales')\n",
    "plt.show"
   ]
  },
  {
   "cell_type": "markdown",
   "metadata": {},
   "source": [
    "### to find mean and median MTTR based on priority of tickets,we have to group MTTR (column) based on priority of tickets"
   ]
  },
  {
   "cell_type": "code",
   "execution_count": 15,
   "metadata": {},
   "outputs": [],
   "source": [
    "data1=data.groupby('priority')['MTTR']"
   ]
  },
  {
   "cell_type": "code",
   "execution_count": 16,
   "metadata": {
    "scrolled": true
   },
   "outputs": [
    {
     "data": {
      "text/plain": [
       "priority\n",
       "1 - Critical           6655.750000\n",
       "2 - High               4097.687500\n",
       "3 - Moderate          28361.825239\n",
       "4 - Low               15959.263300\n",
       "5 - Scheduled SLA    441023.898618\n",
       "Name: MTTR, dtype: float64"
      ]
     },
     "execution_count": 16,
     "metadata": {},
     "output_type": "execute_result"
    }
   ],
   "source": [
    "data1.mean()"
   ]
  },
  {
   "cell_type": "code",
   "execution_count": 17,
   "metadata": {},
   "outputs": [
    {
     "data": {
      "text/plain": [
       "priority\n",
       "1 - Critical           7086.0\n",
       "2 - High               2712.5\n",
       "3 - Moderate           3011.0\n",
       "4 - Low                 152.0\n",
       "5 - Scheduled SLA    337135.0\n",
       "Name: MTTR, dtype: float64"
      ]
     },
     "execution_count": 17,
     "metadata": {},
     "output_type": "execute_result"
    }
   ],
   "source": [
    "data1.median()"
   ]
  },
  {
   "cell_type": "markdown",
   "metadata": {},
   "source": [
    "### Min & Max MTTR based on ticket priority"
   ]
  },
  {
   "cell_type": "code",
   "execution_count": 18,
   "metadata": {
    "scrolled": true
   },
   "outputs": [
    {
     "data": {
      "text/plain": [
       "priority\n",
       "1 - Critical         3803\n",
       "2 - High              156\n",
       "3 - Moderate            0\n",
       "4 - Low                 0\n",
       "5 - Scheduled SLA      49\n",
       "Name: MTTR, dtype: int64"
      ]
     },
     "execution_count": 18,
     "metadata": {},
     "output_type": "execute_result"
    }
   ],
   "source": [
    "data1.min()"
   ]
  },
  {
   "cell_type": "code",
   "execution_count": 19,
   "metadata": {},
   "outputs": [
    {
     "data": {
      "text/plain": [
       "priority\n",
       "1 - Critical             8648\n",
       "2 - High                21372\n",
       "3 - Moderate          1914938\n",
       "4 - Low               8559618\n",
       "5 - Scheduled SLA    13816027\n",
       "Name: MTTR, dtype: int64"
      ]
     },
     "execution_count": 19,
     "metadata": {},
     "output_type": "execute_result"
    }
   ],
   "source": [
    "data1.max()"
   ]
  },
  {
   "cell_type": "markdown",
   "metadata": {},
   "source": [
    "### LEVEL 2  (quartiles based on priority of tickets)  Q1=0.25,Q2=0.50,Q3=0.75"
   ]
  },
  {
   "cell_type": "code",
   "execution_count": 20,
   "metadata": {
    "scrolled": true
   },
   "outputs": [
    {
     "data": {
      "text/plain": [
       "priority               \n",
       "1 - Critical       0.25      5093.75\n",
       "                   0.50      7086.00\n",
       "                   0.75      8648.00\n",
       "2 - High           0.25      1658.75\n",
       "                   0.50      2712.50\n",
       "                   0.75      4901.75\n",
       "3 - Moderate       0.25       853.50\n",
       "                   0.50      3011.00\n",
       "                   0.75     12309.00\n",
       "4 - Low            0.25        37.00\n",
       "                   0.50       152.00\n",
       "                   0.75      1315.00\n",
       "5 - Scheduled SLA  0.25     84834.00\n",
       "                   0.50    337135.00\n",
       "                   0.75    507339.00\n",
       "Name: MTTR, dtype: float64"
      ]
     },
     "execution_count": 20,
     "metadata": {},
     "output_type": "execute_result"
    }
   ],
   "source": [
    "data1.quantile([0.25,0.5,0.75])"
   ]
  },
  {
   "cell_type": "markdown",
   "metadata": {},
   "source": [
    "## Dividing data into 10 groups based on MTTR"
   ]
  },
  {
   "cell_type": "code",
   "execution_count": 21,
   "metadata": {},
   "outputs": [],
   "source": [
    "data_decile=pd.qcut(data['MTTR'],10)"
   ]
  },
  {
   "cell_type": "code",
   "execution_count": 22,
   "metadata": {
    "scrolled": true
   },
   "outputs": [
    {
     "data": {
      "text/plain": [
       "0                (98.0, 188.0]\n",
       "1               (-0.001, 19.0]\n",
       "2             (1109.0, 3389.4]\n",
       "3               (188.0, 424.8]\n",
       "4                 (54.0, 98.0]\n",
       "                 ...          \n",
       "33979             (19.0, 31.0]\n",
       "33980    (18161.5, 13816027.0]\n",
       "33981         (1109.0, 3389.4]\n",
       "33982             (31.0, 54.0]\n",
       "33983        (3389.4, 18161.5]\n",
       "Name: MTTR, Length: 33984, dtype: category\n",
       "Categories (10, interval[float64]): [(-0.001, 19.0] < (19.0, 31.0] < (31.0, 54.0] < (54.0, 98.0] ... (424.8, 1109.0] < (1109.0, 3389.4] < (3389.4, 18161.5] < (18161.5, 13816027.0]]"
      ]
     },
     "execution_count": 22,
     "metadata": {},
     "output_type": "execute_result"
    }
   ],
   "source": [
    "data_decile"
   ]
  },
  {
   "cell_type": "markdown",
   "metadata": {},
   "source": [
    "### IQR=Q3-Q1"
   ]
  },
  {
   "cell_type": "code",
   "execution_count": 23,
   "metadata": {},
   "outputs": [],
   "source": [
    "IQR=data1.quantile(0.75)-data1.quantile(0.25)"
   ]
  },
  {
   "cell_type": "code",
   "execution_count": 24,
   "metadata": {
    "scrolled": true
   },
   "outputs": [
    {
     "data": {
      "text/plain": [
       "priority\n",
       "1 - Critical           3554.25\n",
       "2 - High               3243.00\n",
       "3 - Moderate          11455.50\n",
       "4 - Low                1278.00\n",
       "5 - Scheduled SLA    422505.00\n",
       "Name: MTTR, dtype: float64"
      ]
     },
     "execution_count": 24,
     "metadata": {},
     "output_type": "execute_result"
    }
   ],
   "source": [
    "IQR"
   ]
  },
  {
   "cell_type": "code",
   "execution_count": 25,
   "metadata": {},
   "outputs": [],
   "source": [
    "Q3=data1.quantile(0.75)"
   ]
  },
  {
   "cell_type": "code",
   "execution_count": 26,
   "metadata": {},
   "outputs": [],
   "source": [
    "Q1=data1.quantile(0.25)"
   ]
  },
  {
   "cell_type": "code",
   "execution_count": 27,
   "metadata": {},
   "outputs": [],
   "source": [
    "    max= Q3+(IQR*1.5)\n",
    "    min=Q1-(IQR*1.5)"
   ]
  },
  {
   "cell_type": "code",
   "execution_count": 28,
   "metadata": {},
   "outputs": [
    {
     "data": {
      "text/plain": [
       "priority\n",
       "1 - Critical           13979.375\n",
       "2 - High                9766.250\n",
       "3 - Moderate           29492.250\n",
       "4 - Low                 3232.000\n",
       "5 - Scheduled SLA    1141096.500\n",
       "Name: MTTR, dtype: float64"
      ]
     },
     "execution_count": 28,
     "metadata": {},
     "output_type": "execute_result"
    }
   ],
   "source": [
    "max"
   ]
  },
  {
   "cell_type": "code",
   "execution_count": 29,
   "metadata": {
    "scrolled": false
   },
   "outputs": [
    {
     "data": {
      "text/plain": [
       "priority\n",
       "1 - Critical           -237.625\n",
       "2 - High              -3205.750\n",
       "3 - Moderate         -16329.750\n",
       "4 - Low               -1880.000\n",
       "5 - Scheduled SLA   -548923.500\n",
       "Name: MTTR, dtype: float64"
      ]
     },
     "execution_count": 29,
     "metadata": {},
     "output_type": "execute_result"
    }
   ],
   "source": [
    "min"
   ]
  },
  {
   "cell_type": "markdown",
   "metadata": {},
   "source": [
    "### Herebelow are outliers based on categories under priority\n",
    "Z score was used to detect outliers\n",
    "\n",
    "1.1 - Critical"
   ]
  },
  {
   "cell_type": "code",
   "execution_count": 30,
   "metadata": {},
   "outputs": [],
   "source": [
    "data_critical=data[data['priority']=='1 - Critical']"
   ]
  },
  {
   "cell_type": "code",
   "execution_count": 31,
   "metadata": {},
   "outputs": [
    {
     "data": {
      "text/html": [
       "<div>\n",
       "<style scoped>\n",
       "    .dataframe tbody tr th:only-of-type {\n",
       "        vertical-align: middle;\n",
       "    }\n",
       "\n",
       "    .dataframe tbody tr th {\n",
       "        vertical-align: top;\n",
       "    }\n",
       "\n",
       "    .dataframe thead th {\n",
       "        text-align: right;\n",
       "    }\n",
       "</style>\n",
       "<table border=\"1\" class=\"dataframe\">\n",
       "  <thead>\n",
       "    <tr style=\"text-align: right;\">\n",
       "      <th></th>\n",
       "      <th>number</th>\n",
       "      <th>priority</th>\n",
       "      <th>state</th>\n",
       "      <th>Ticket_class_name</th>\n",
       "      <th>MTTR</th>\n",
       "      <th>u_preferred_method_of_contact</th>\n",
       "    </tr>\n",
       "  </thead>\n",
       "  <tbody>\n",
       "    <tr>\n",
       "      <th>2982</th>\n",
       "      <td>INC0570086</td>\n",
       "      <td>1 - Critical</td>\n",
       "      <td>Closed</td>\n",
       "      <td>Incident</td>\n",
       "      <td>5524</td>\n",
       "      <td>Email</td>\n",
       "    </tr>\n",
       "    <tr>\n",
       "      <th>9695</th>\n",
       "      <td>INC0534591</td>\n",
       "      <td>1 - Critical</td>\n",
       "      <td>Closed</td>\n",
       "      <td>Incident</td>\n",
       "      <td>3803</td>\n",
       "      <td>Phone</td>\n",
       "    </tr>\n",
       "    <tr>\n",
       "      <th>14658</th>\n",
       "      <td>INC0516087</td>\n",
       "      <td>1 - Critical</td>\n",
       "      <td>Closed</td>\n",
       "      <td>Incident</td>\n",
       "      <td>8648</td>\n",
       "      <td>Phone</td>\n",
       "    </tr>\n",
       "    <tr>\n",
       "      <th>18943</th>\n",
       "      <td>INC0516087</td>\n",
       "      <td>1 - Critical</td>\n",
       "      <td>Closed</td>\n",
       "      <td>Incident</td>\n",
       "      <td>8648</td>\n",
       "      <td>Phone</td>\n",
       "    </tr>\n",
       "  </tbody>\n",
       "</table>\n",
       "</div>"
      ],
      "text/plain": [
       "           number      priority   state Ticket_class_name  MTTR  \\\n",
       "2982   INC0570086  1 - Critical  Closed          Incident  5524   \n",
       "9695   INC0534591  1 - Critical  Closed          Incident  3803   \n",
       "14658  INC0516087  1 - Critical  Closed          Incident  8648   \n",
       "18943  INC0516087  1 - Critical  Closed          Incident  8648   \n",
       "\n",
       "      u_preferred_method_of_contact  \n",
       "2982                          Email  \n",
       "9695                          Phone  \n",
       "14658                         Phone  \n",
       "18943                         Phone  "
      ]
     },
     "execution_count": 31,
     "metadata": {},
     "output_type": "execute_result"
    }
   ],
   "source": [
    "data_critical"
   ]
  },
  {
   "cell_type": "code",
   "execution_count": 78,
   "metadata": {},
   "outputs": [],
   "source": [
    "z1=np.abs(stats.zscore(data_critical['MTTR']))"
   ]
  },
  {
   "cell_type": "code",
   "execution_count": 79,
   "metadata": {},
   "outputs": [
    {
     "data": {
      "text/plain": [
       "array([0.54330182, 1.36947581, 0.95638881, 0.95638881])"
      ]
     },
     "execution_count": 79,
     "metadata": {},
     "output_type": "execute_result"
    }
   ],
   "source": [
    "z1"
   ]
  },
  {
   "cell_type": "markdown",
   "metadata": {},
   "source": [
    "For 1- Critical, there are no outliers"
   ]
  },
  {
   "cell_type": "code",
   "execution_count": 80,
   "metadata": {},
   "outputs": [
    {
     "name": "stdout",
     "output_type": "stream",
     "text": [
      "(array([], dtype=int64),)\n"
     ]
    }
   ],
   "source": [
    "threshold=3\n",
    "print(np.where(z1>3))"
   ]
  },
  {
   "cell_type": "markdown",
   "metadata": {},
   "source": [
    "2.2- High"
   ]
  },
  {
   "cell_type": "code",
   "execution_count": 35,
   "metadata": {},
   "outputs": [],
   "source": [
    "data_high=data[data['priority']=='2 - High'  ]"
   ]
  },
  {
   "cell_type": "code",
   "execution_count": 36,
   "metadata": {},
   "outputs": [
    {
     "data": {
      "text/html": [
       "<div>\n",
       "<style scoped>\n",
       "    .dataframe tbody tr th:only-of-type {\n",
       "        vertical-align: middle;\n",
       "    }\n",
       "\n",
       "    .dataframe tbody tr th {\n",
       "        vertical-align: top;\n",
       "    }\n",
       "\n",
       "    .dataframe thead th {\n",
       "        text-align: right;\n",
       "    }\n",
       "</style>\n",
       "<table border=\"1\" class=\"dataframe\">\n",
       "  <thead>\n",
       "    <tr style=\"text-align: right;\">\n",
       "      <th></th>\n",
       "      <th>number</th>\n",
       "      <th>priority</th>\n",
       "      <th>state</th>\n",
       "      <th>Ticket_class_name</th>\n",
       "      <th>MTTR</th>\n",
       "      <th>u_preferred_method_of_contact</th>\n",
       "    </tr>\n",
       "  </thead>\n",
       "  <tbody>\n",
       "    <tr>\n",
       "      <th>642</th>\n",
       "      <td>INC0583313</td>\n",
       "      <td>2 - High</td>\n",
       "      <td>Closed</td>\n",
       "      <td>Incident</td>\n",
       "      <td>1029</td>\n",
       "      <td>Email</td>\n",
       "    </tr>\n",
       "    <tr>\n",
       "      <th>1935</th>\n",
       "      <td>INC0576777</td>\n",
       "      <td>2 - High</td>\n",
       "      <td>Closed</td>\n",
       "      <td>Incident</td>\n",
       "      <td>1697</td>\n",
       "      <td>Email</td>\n",
       "    </tr>\n",
       "    <tr>\n",
       "      <th>4418</th>\n",
       "      <td>INC0559567</td>\n",
       "      <td>2 - High</td>\n",
       "      <td>Closed</td>\n",
       "      <td>Incident</td>\n",
       "      <td>2879</td>\n",
       "      <td>Email</td>\n",
       "    </tr>\n",
       "    <tr>\n",
       "      <th>5718</th>\n",
       "      <td>INC0550358</td>\n",
       "      <td>2 - High</td>\n",
       "      <td>Closed</td>\n",
       "      <td>Incident</td>\n",
       "      <td>1613</td>\n",
       "      <td>Email</td>\n",
       "    </tr>\n",
       "    <tr>\n",
       "      <th>5946</th>\n",
       "      <td>INC0549523</td>\n",
       "      <td>2 - High</td>\n",
       "      <td>Closed</td>\n",
       "      <td>Incident</td>\n",
       "      <td>4247</td>\n",
       "      <td>Phone</td>\n",
       "    </tr>\n",
       "  </tbody>\n",
       "</table>\n",
       "</div>"
      ],
      "text/plain": [
       "          number  priority   state Ticket_class_name  MTTR  \\\n",
       "642   INC0583313  2 - High  Closed          Incident  1029   \n",
       "1935  INC0576777  2 - High  Closed          Incident  1697   \n",
       "4418  INC0559567  2 - High  Closed          Incident  2879   \n",
       "5718  INC0550358  2 - High  Closed          Incident  1613   \n",
       "5946  INC0549523  2 - High  Closed          Incident  4247   \n",
       "\n",
       "     u_preferred_method_of_contact  \n",
       "642                          Email  \n",
       "1935                         Email  \n",
       "4418                         Email  \n",
       "5718                         Email  \n",
       "5946                         Phone  "
      ]
     },
     "execution_count": 36,
     "metadata": {},
     "output_type": "execute_result"
    }
   ],
   "source": [
    "data_high.head()"
   ]
  },
  {
   "cell_type": "code",
   "execution_count": 82,
   "metadata": {},
   "outputs": [],
   "source": [
    "z2=np.abs(stats.zscore(data_high['MTTR']))"
   ]
  },
  {
   "cell_type": "code",
   "execution_count": 83,
   "metadata": {
    "scrolled": false
   },
   "outputs": [
    {
     "data": {
      "text/plain": [
       "array([0.70518984, 0.55168225, 0.28005655, 0.5709856 , 0.03431228,\n",
       "       0.17457754, 0.83410864, 0.46863764, 0.55168225, 0.56009874,\n",
       "       0.00590303, 0.4806735 , 0.22260611, 0.07820442, 0.39288923,\n",
       "       0.65509305, 0.44083162, 0.07820442, 0.39288923, 0.65509305,\n",
       "       0.44083162, 0.52433584, 0.40406334, 0.35658054, 0.4154098 ,\n",
       "       0.18207482, 0.24972272, 3.96966771, 0.55696769, 0.06809314,\n",
       "       0.1928755 , 0.12448075, 0.60430686, 0.48251192, 0.02819381,\n",
       "       0.73276605, 1.06979909, 0.90580679, 0.56446498, 2.99645718,\n",
       "       0.86490208, 0.45516551, 3.23223381, 0.77978924, 0.4666556 ,\n",
       "       0.75827405, 0.75804425, 0.8030854 ])"
      ]
     },
     "execution_count": 83,
     "metadata": {},
     "output_type": "execute_result"
    }
   ],
   "source": [
    "z2"
   ]
  },
  {
   "cell_type": "markdown",
   "metadata": {},
   "source": [
    "Herebelow are outliers for 2- High"
   ]
  },
  {
   "cell_type": "code",
   "execution_count": 84,
   "metadata": {},
   "outputs": [
    {
     "name": "stdout",
     "output_type": "stream",
     "text": [
      "(array([27, 42], dtype=int64),)\n"
     ]
    }
   ],
   "source": [
    " #for z>3,outliers are dsplayed.for z<3, values in wanted range are displayed\n",
    "threshold=3\n",
    "print(np.where(z2>3))"
   ]
  },
  {
   "cell_type": "markdown",
   "metadata": {},
   "source": [
    "3.3- Moderate   "
   ]
  },
  {
   "cell_type": "code",
   "execution_count": 69,
   "metadata": {},
   "outputs": [],
   "source": [
    "data_moderate=data[data['priority']=='3 - Moderate'  ]"
   ]
  },
  {
   "cell_type": "code",
   "execution_count": 85,
   "metadata": {
    "scrolled": false
   },
   "outputs": [
    {
     "data": {
      "text/html": [
       "<div>\n",
       "<style scoped>\n",
       "    .dataframe tbody tr th:only-of-type {\n",
       "        vertical-align: middle;\n",
       "    }\n",
       "\n",
       "    .dataframe tbody tr th {\n",
       "        vertical-align: top;\n",
       "    }\n",
       "\n",
       "    .dataframe thead th {\n",
       "        text-align: right;\n",
       "    }\n",
       "</style>\n",
       "<table border=\"1\" class=\"dataframe\">\n",
       "  <thead>\n",
       "    <tr style=\"text-align: right;\">\n",
       "      <th></th>\n",
       "      <th>number</th>\n",
       "      <th>priority</th>\n",
       "      <th>state</th>\n",
       "      <th>Ticket_class_name</th>\n",
       "      <th>MTTR</th>\n",
       "      <th>u_preferred_method_of_contact</th>\n",
       "    </tr>\n",
       "  </thead>\n",
       "  <tbody>\n",
       "    <tr>\n",
       "      <th>0</th>\n",
       "      <td>INC0586211</td>\n",
       "      <td>3 - Moderate</td>\n",
       "      <td>Closed</td>\n",
       "      <td>Incident</td>\n",
       "      <td>114</td>\n",
       "      <td>Instant Message</td>\n",
       "    </tr>\n",
       "    <tr>\n",
       "      <th>2</th>\n",
       "      <td>INC0586151</td>\n",
       "      <td>3 - Moderate</td>\n",
       "      <td>Closed</td>\n",
       "      <td>Incident</td>\n",
       "      <td>1694</td>\n",
       "      <td>Phone</td>\n",
       "    </tr>\n",
       "    <tr>\n",
       "      <th>18</th>\n",
       "      <td>INC0586121</td>\n",
       "      <td>3 - Moderate</td>\n",
       "      <td>Closed</td>\n",
       "      <td>Incident</td>\n",
       "      <td>643</td>\n",
       "      <td>Email</td>\n",
       "    </tr>\n",
       "    <tr>\n",
       "      <th>20</th>\n",
       "      <td>INC0586119</td>\n",
       "      <td>3 - Moderate</td>\n",
       "      <td>Closed</td>\n",
       "      <td>Incident</td>\n",
       "      <td>657</td>\n",
       "      <td>Email</td>\n",
       "    </tr>\n",
       "    <tr>\n",
       "      <th>25</th>\n",
       "      <td>INC0586109</td>\n",
       "      <td>3 - Moderate</td>\n",
       "      <td>Closed</td>\n",
       "      <td>Incident</td>\n",
       "      <td>239</td>\n",
       "      <td>Phone</td>\n",
       "    </tr>\n",
       "  </tbody>\n",
       "</table>\n",
       "</div>"
      ],
      "text/plain": [
       "        number      priority   state Ticket_class_name  MTTR  \\\n",
       "0   INC0586211  3 - Moderate  Closed          Incident   114   \n",
       "2   INC0586151  3 - Moderate  Closed          Incident  1694   \n",
       "18  INC0586121  3 - Moderate  Closed          Incident   643   \n",
       "20  INC0586119  3 - Moderate  Closed          Incident   657   \n",
       "25  INC0586109  3 - Moderate  Closed          Incident   239   \n",
       "\n",
       "   u_preferred_method_of_contact  \n",
       "0                Instant Message  \n",
       "2                          Phone  \n",
       "18                         Email  \n",
       "20                         Email  \n",
       "25                         Phone  "
      ]
     },
     "execution_count": 85,
     "metadata": {},
     "output_type": "execute_result"
    }
   ],
   "source": [
    "data_moderate.head()"
   ]
  },
  {
   "cell_type": "code",
   "execution_count": 86,
   "metadata": {},
   "outputs": [],
   "source": [
    "z3=np.abs(stats.zscore(data_moderate['MTTR']))"
   ]
  },
  {
   "cell_type": "code",
   "execution_count": 87,
   "metadata": {},
   "outputs": [
    {
     "data": {
      "text/plain": [
       "array([0.33174949, 0.31319357, 0.32553678, ..., 1.19017596, 0.27777292,\n",
       "       0.32705179])"
      ]
     },
     "execution_count": 87,
     "metadata": {},
     "output_type": "execute_result"
    }
   ],
   "source": [
    "z3"
   ]
  },
  {
   "cell_type": "markdown",
   "metadata": {},
   "source": [
    "herebelow are outliers for 3- Moderate"
   ]
  },
  {
   "cell_type": "code",
   "execution_count": 88,
   "metadata": {},
   "outputs": [
    {
     "name": "stdout",
     "output_type": "stream",
     "text": [
      "(array([ 150,  156,  212,  214,  223,  232,  278,  341,  424,  430,  435,\n",
      "        464,  470,  472,  480,  544,  549,  648,  683,  745,  770,  885,\n",
      "       1045, 1091, 1217, 1230, 1321, 1367, 1493, 1506, 1583, 1755, 1760,\n",
      "       1817, 1870, 1963, 2076, 2096, 2115, 2153, 2174], dtype=int64),)\n"
     ]
    }
   ],
   "source": [
    "threshold=3\n",
    "print(np.where(z3>3))"
   ]
  },
  {
   "cell_type": "markdown",
   "metadata": {},
   "source": [
    "4.4- Low"
   ]
  },
  {
   "cell_type": "code",
   "execution_count": 89,
   "metadata": {},
   "outputs": [],
   "source": [
    "data_low=data[data['priority']=='4 - Low'  ]"
   ]
  },
  {
   "cell_type": "code",
   "execution_count": 90,
   "metadata": {
    "scrolled": true
   },
   "outputs": [
    {
     "data": {
      "text/html": [
       "<div>\n",
       "<style scoped>\n",
       "    .dataframe tbody tr th:only-of-type {\n",
       "        vertical-align: middle;\n",
       "    }\n",
       "\n",
       "    .dataframe tbody tr th {\n",
       "        vertical-align: top;\n",
       "    }\n",
       "\n",
       "    .dataframe thead th {\n",
       "        text-align: right;\n",
       "    }\n",
       "</style>\n",
       "<table border=\"1\" class=\"dataframe\">\n",
       "  <thead>\n",
       "    <tr style=\"text-align: right;\">\n",
       "      <th></th>\n",
       "      <th>number</th>\n",
       "      <th>priority</th>\n",
       "      <th>state</th>\n",
       "      <th>Ticket_class_name</th>\n",
       "      <th>MTTR</th>\n",
       "      <th>u_preferred_method_of_contact</th>\n",
       "    </tr>\n",
       "  </thead>\n",
       "  <tbody>\n",
       "    <tr>\n",
       "      <th>1</th>\n",
       "      <td>INC0586189</td>\n",
       "      <td>4 - Low</td>\n",
       "      <td>New</td>\n",
       "      <td>Incident</td>\n",
       "      <td>0</td>\n",
       "      <td>Email</td>\n",
       "    </tr>\n",
       "    <tr>\n",
       "      <th>3</th>\n",
       "      <td>INC0586145</td>\n",
       "      <td>4 - Low</td>\n",
       "      <td>Closed</td>\n",
       "      <td>Incident</td>\n",
       "      <td>220</td>\n",
       "      <td>Phone</td>\n",
       "    </tr>\n",
       "    <tr>\n",
       "      <th>4</th>\n",
       "      <td>INC0586144</td>\n",
       "      <td>4 - Low</td>\n",
       "      <td>Closed</td>\n",
       "      <td>Incident</td>\n",
       "      <td>67</td>\n",
       "      <td>Phone</td>\n",
       "    </tr>\n",
       "    <tr>\n",
       "      <th>5</th>\n",
       "      <td>INC0586143</td>\n",
       "      <td>4 - Low</td>\n",
       "      <td>Closed</td>\n",
       "      <td>Incident</td>\n",
       "      <td>706</td>\n",
       "      <td>Phone</td>\n",
       "    </tr>\n",
       "    <tr>\n",
       "      <th>6</th>\n",
       "      <td>INC0586142</td>\n",
       "      <td>4 - Low</td>\n",
       "      <td>Active</td>\n",
       "      <td>Incident</td>\n",
       "      <td>0</td>\n",
       "      <td>Instant Message</td>\n",
       "    </tr>\n",
       "  </tbody>\n",
       "</table>\n",
       "</div>"
      ],
      "text/plain": [
       "       number priority   state Ticket_class_name  MTTR  \\\n",
       "1  INC0586189  4 - Low     New          Incident     0   \n",
       "3  INC0586145  4 - Low  Closed          Incident   220   \n",
       "4  INC0586144  4 - Low  Closed          Incident    67   \n",
       "5  INC0586143  4 - Low  Closed          Incident   706   \n",
       "6  INC0586142  4 - Low  Active          Incident     0   \n",
       "\n",
       "  u_preferred_method_of_contact  \n",
       "1                         Email  \n",
       "3                         Phone  \n",
       "4                         Phone  \n",
       "5                         Phone  \n",
       "6               Instant Message  "
      ]
     },
     "execution_count": 90,
     "metadata": {},
     "output_type": "execute_result"
    }
   ],
   "source": [
    "data_low.head()"
   ]
  },
  {
   "cell_type": "code",
   "execution_count": 91,
   "metadata": {},
   "outputs": [],
   "source": [
    "z4=np.abs(stats.zscore(data_low['MTTR']))"
   ]
  },
  {
   "cell_type": "code",
   "execution_count": 92,
   "metadata": {},
   "outputs": [
    {
     "data": {
      "text/plain": [
       "array([0.16731383, 0.16500739, 0.16661141, ..., 0.1426664 , 0.16687351,\n",
       "       0.10457873])"
      ]
     },
     "execution_count": 92,
     "metadata": {},
     "output_type": "execute_result"
    }
   ],
   "source": [
    "z4"
   ]
  },
  {
   "cell_type": "markdown",
   "metadata": {},
   "source": [
    "Herebelow are Outliers of 4- Low"
   ]
  },
  {
   "cell_type": "code",
   "execution_count": 93,
   "metadata": {},
   "outputs": [
    {
     "name": "stdout",
     "output_type": "stream",
     "text": [
      "(array([  617,   670,   716,   721,   730,   749,   755,   777,   784,\n",
      "         818,   850,   888,   890,   891,   924,  1130,  1361,  1443,\n",
      "        1630,  1695,  1726,  1889,  1966,  2015,  2023,  2049,  2094,\n",
      "        2181,  2203,  2336,  2345,  2384,  2385,  2398,  2566,  2656,\n",
      "        2662,  2667,  2680,  2681,  2698,  2729,  2733,  2777,  2835,\n",
      "        2871,  2961,  2965,  3081,  3200,  3310,  3343,  3367,  3382,\n",
      "        3386,  3387,  3403,  3432,  3500,  3514,  3540,  3578,  3595,\n",
      "        3864,  4039,  4057,  4080,  4081,  4086,  4089,  4093,  4099,\n",
      "        4130,  4194,  4388,  4531,  4628,  4646,  4660,  4665,  4682,\n",
      "        4710,  4720,  4721,  4725,  4736,  4788,  4805,  4821,  4876,\n",
      "        4881,  4949,  5153,  5168,  5214,  5237,  5247,  5282,  5324,\n",
      "        5327,  5331,  5332,  5340,  5356,  5376,  5394,  5438,  5527,\n",
      "        5604,  5893,  5934,  5950,  5998,  6005,  6033,  6104,  6239,\n",
      "        6265,  6452,  6554,  6582,  6625,  6627,  6640,  6704,  6868,\n",
      "        6934,  7086,  7197,  7211,  7212,  7262,  7309,  7347,  7484,\n",
      "        7595,  7627,  7733,  7845,  7851,  7883,  7890,  7960,  7970,\n",
      "        7976,  8022,  8041,  8220,  8376,  8394,  8462,  8481,  8491,\n",
      "        8564,  8570,  8659,  8744,  8814,  9087,  9113,  9164,  9179,\n",
      "        9199,  9300,  9342,  9407,  9495,  9773,  9825,  9830,  9844,\n",
      "        9869, 10286, 10352, 10383, 10391, 10405, 10490, 10877, 10880,\n",
      "       10888, 10907, 10941, 10980, 10999, 11052, 11054, 11225, 11284,\n",
      "       11442, 11447, 11475, 11565, 11880, 12059, 12115, 12200, 12494,\n",
      "       12687, 12715, 12724, 13163, 13452, 13538, 13724, 13872, 14041,\n",
      "       14044, 14164, 14167, 14180, 14252, 14263, 14291, 14631, 14639,\n",
      "       14696, 14787, 14795, 14799, 14823, 14865, 14873, 14893, 14895,\n",
      "       14917, 14945, 14974, 15015, 15037, 15051, 15189, 15364, 15395,\n",
      "       15507, 15531, 15539, 15548, 15667, 15669, 15675, 15820, 16055,\n",
      "       16102, 16134, 16154, 16155, 16178, 16187, 16244, 16313, 16367,\n",
      "       16567, 16628, 16650, 16696, 16804, 17125, 17414, 17500, 17686,\n",
      "       17834, 18003, 18006, 18126, 18129, 18142, 18214, 18225, 18253,\n",
      "       18593, 18601, 18658, 18749, 18757, 18761, 18785, 18827, 18835,\n",
      "       18855, 18857, 18879, 18907, 18936, 18977, 18999, 19013, 19151,\n",
      "       19326, 19357, 19469, 19493, 19501, 19510, 19629, 19631, 19637,\n",
      "       19782, 20017, 20064, 20096, 20116, 20117, 20140, 20149, 20206,\n",
      "       20275, 20329, 20529, 20590, 20612, 20658, 20766, 21223, 21230,\n",
      "       21270, 21364, 21381, 21383, 21395, 21912, 22059, 22339, 22424,\n",
      "       22431, 22438, 22457, 22512, 22526, 22541, 22755, 22764, 22877,\n",
      "       22928, 23008, 23067, 23073, 23122, 23232, 23474, 23537, 23547,\n",
      "       23582, 23584, 23601, 23617, 23766, 23928, 24162, 24221, 24260,\n",
      "       24444, 24549, 24563, 24566, 24641, 24644, 24860, 24965, 24992,\n",
      "       25163, 25236, 25369, 25389, 25465, 25470, 25494, 25538, 25553,\n",
      "       25569, 25658, 25834, 25914, 25965, 26081, 26087, 26108, 26131,\n",
      "       26136, 26138, 26147, 26172, 26192, 26197, 26220, 26302, 26415,\n",
      "       26440, 26654, 26677, 26728, 26748, 26791, 26814, 26815, 26821,\n",
      "       26842, 26847, 26850, 26851, 26990, 27242, 27285, 27338, 27341,\n",
      "       27359, 27385, 27390, 27397, 27562, 27566, 27581, 27583, 27585,\n",
      "       27738, 27971, 28024, 28187, 28209, 28289, 28350, 28563, 28730,\n",
      "       28822, 29074, 29083, 29208, 29282, 29294, 29698, 29718, 29721,\n",
      "       29722, 29737, 29822, 29835, 29896, 29906, 30112, 30139, 30191,\n",
      "       30307, 30321, 30328, 30405, 30431, 30511, 30701, 30742, 30787,\n",
      "       31123, 31177, 31252, 31269], dtype=int64),)\n"
     ]
    }
   ],
   "source": [
    "threshold=3\n",
    "print(np.where(z4>3))"
   ]
  },
  {
   "cell_type": "markdown",
   "metadata": {},
   "source": [
    "5.5 - Scheduled SLA"
   ]
  },
  {
   "cell_type": "code",
   "execution_count": 94,
   "metadata": {},
   "outputs": [],
   "source": [
    "data_scheduled=data[data['priority']=='5 - Scheduled SLA'  ]"
   ]
  },
  {
   "cell_type": "code",
   "execution_count": 98,
   "metadata": {
    "scrolled": false
   },
   "outputs": [
    {
     "data": {
      "text/html": [
       "<div>\n",
       "<style scoped>\n",
       "    .dataframe tbody tr th:only-of-type {\n",
       "        vertical-align: middle;\n",
       "    }\n",
       "\n",
       "    .dataframe tbody tr th {\n",
       "        vertical-align: top;\n",
       "    }\n",
       "\n",
       "    .dataframe thead th {\n",
       "        text-align: right;\n",
       "    }\n",
       "</style>\n",
       "<table border=\"1\" class=\"dataframe\">\n",
       "  <thead>\n",
       "    <tr style=\"text-align: right;\">\n",
       "      <th></th>\n",
       "      <th>number</th>\n",
       "      <th>priority</th>\n",
       "      <th>state</th>\n",
       "      <th>Ticket_class_name</th>\n",
       "      <th>MTTR</th>\n",
       "      <th>u_preferred_method_of_contact</th>\n",
       "    </tr>\n",
       "  </thead>\n",
       "  <tbody>\n",
       "    <tr>\n",
       "      <th>898</th>\n",
       "      <td>INC0582230</td>\n",
       "      <td>5 - Scheduled SLA</td>\n",
       "      <td>Closed</td>\n",
       "      <td>Incident</td>\n",
       "      <td>392911</td>\n",
       "      <td>Email</td>\n",
       "    </tr>\n",
       "    <tr>\n",
       "      <th>1384</th>\n",
       "      <td>INC0580008</td>\n",
       "      <td>5 - Scheduled SLA</td>\n",
       "      <td>Closed</td>\n",
       "      <td>Incident</td>\n",
       "      <td>187500</td>\n",
       "      <td>Email</td>\n",
       "    </tr>\n",
       "    <tr>\n",
       "      <th>1554</th>\n",
       "      <td>INC0578761</td>\n",
       "      <td>5 - Scheduled SLA</td>\n",
       "      <td>Closed</td>\n",
       "      <td>Incident</td>\n",
       "      <td>582459</td>\n",
       "      <td>Email</td>\n",
       "    </tr>\n",
       "    <tr>\n",
       "      <th>1600</th>\n",
       "      <td>INC0578571</td>\n",
       "      <td>5 - Scheduled SLA</td>\n",
       "      <td>Closed</td>\n",
       "      <td>Incident</td>\n",
       "      <td>337135</td>\n",
       "      <td>Phone</td>\n",
       "    </tr>\n",
       "    <tr>\n",
       "      <th>1742</th>\n",
       "      <td>INC0577890</td>\n",
       "      <td>5 - Scheduled SLA</td>\n",
       "      <td>Closed</td>\n",
       "      <td>Incident</td>\n",
       "      <td>252868</td>\n",
       "      <td>Email</td>\n",
       "    </tr>\n",
       "  </tbody>\n",
       "</table>\n",
       "</div>"
      ],
      "text/plain": [
       "          number           priority   state Ticket_class_name    MTTR  \\\n",
       "898   INC0582230  5 - Scheduled SLA  Closed          Incident  392911   \n",
       "1384  INC0580008  5 - Scheduled SLA  Closed          Incident  187500   \n",
       "1554  INC0578761  5 - Scheduled SLA  Closed          Incident  582459   \n",
       "1600  INC0578571  5 - Scheduled SLA  Closed          Incident  337135   \n",
       "1742  INC0577890  5 - Scheduled SLA  Closed          Incident  252868   \n",
       "\n",
       "     u_preferred_method_of_contact  \n",
       "898                          Email  \n",
       "1384                         Email  \n",
       "1554                         Email  \n",
       "1600                         Phone  \n",
       "1742                         Email  "
      ]
     },
     "execution_count": 98,
     "metadata": {},
     "output_type": "execute_result"
    }
   ],
   "source": [
    "data_scheduled.head()"
   ]
  },
  {
   "cell_type": "code",
   "execution_count": 100,
   "metadata": {},
   "outputs": [],
   "source": [
    "z5=np.abs(stats.zscore(data_scheduled['MTTR']))"
   ]
  },
  {
   "cell_type": "code",
   "execution_count": 101,
   "metadata": {},
   "outputs": [
    {
     "data": {
      "text/plain": [
       "array([4.83242663e-02, 2.54637670e-01, 1.42056449e-01, 1.04345299e-01,\n",
       "       1.88982498e-01, 2.61768861e-01, 5.33645149e-02, 1.67224532e-01,\n",
       "       1.93605720e-01, 7.82875268e-02, 1.63633827e-01, 8.89308774e-02,\n",
       "       8.01094960e-02, 1.57930992e+00, 3.28110238e-01, 4.47355696e-02,\n",
       "       4.24348978e-01, 2.38896020e-01, 7.64615400e-02, 2.21210665e-01,\n",
       "       1.52729042e-02, 5.78673186e-01, 3.62227465e-01, 4.39720211e-01,\n",
       "       7.20874078e-02, 1.57257735e-01, 1.76204812e-01, 6.42531411e-02,\n",
       "       8.59932311e-02, 4.42795663e-01, 4.42543560e-01, 4.39490205e-01,\n",
       "       4.42788632e-01, 4.41233831e-01, 4.41288069e-01, 1.47616769e-01,\n",
       "       4.42835839e-01, 2.57021095e-01, 5.73708355e-02, 2.50300700e-01,\n",
       "       9.01141646e-01, 4.40850153e-01, 4.42805707e-01, 1.65692629e-01,\n",
       "       6.66064343e-02, 2.59441886e-01, 4.42608846e-01, 8.58766298e-01,\n",
       "       1.67782859e-02, 7.00221718e-02, 1.56838903e-01, 4.42731382e-01,\n",
       "       3.79880563e-02, 8.02380583e-02, 4.41699870e-01, 1.91710430e-01,\n",
       "       3.65838054e-01, 4.27185588e-01, 2.49763350e-01, 1.19290873e-01,\n",
       "       2.40981941e-01, 7.85250745e-01, 1.42462108e-02, 9.73406614e-02,\n",
       "       5.15062996e-03, 3.29255246e-01, 1.80840887e-01, 1.24038436e-01,\n",
       "       5.23801216e-03, 1.77472152e-01, 1.05068462e-01, 1.54605221e-02,\n",
       "       2.96250683e-01, 6.37228215e-02, 6.52223805e-02, 4.42418011e-01,\n",
       "       1.07603551e-01, 4.39438981e-01, 4.39427933e-01, 1.01924800e-02,\n",
       "       4.33398560e-01, 4.41849524e-01, 4.42773566e-01, 4.42588758e-01,\n",
       "       2.98013634e-03, 4.35396298e-01, 1.23137583e-02, 4.38005712e-01,\n",
       "       1.18175881e-02, 3.57754698e-01, 4.42807715e-01, 4.37341896e-02,\n",
       "       1.21614835e-01, 9.12782322e-03, 1.49736039e-01, 6.14649457e-02,\n",
       "       7.58006493e-02, 2.02448911e+00, 4.42728368e-01, 4.48861915e-04,\n",
       "       2.00491839e-01, 4.37710420e-01, 3.39323167e-02, 5.90684636e-02,\n",
       "       2.33256352e-01, 9.73406614e-02, 5.15062996e-03, 3.29255246e-01,\n",
       "       1.80840887e-01, 1.24038436e-01, 5.23801216e-03, 1.77472152e-01,\n",
       "       1.05068462e-01, 1.54605221e-02, 2.96250683e-01, 6.37228215e-02,\n",
       "       6.52223805e-02, 4.42418011e-01, 1.07603551e-01, 4.39438981e-01,\n",
       "       4.39427933e-01, 1.01924800e-02, 4.33398560e-01, 4.41849524e-01,\n",
       "       4.42773566e-01, 4.42588758e-01, 2.98013634e-03, 4.35396298e-01,\n",
       "       1.23137583e-02, 4.38005712e-01, 1.18175881e-02, 3.57754698e-01,\n",
       "       4.42807715e-01, 4.37341896e-02, 1.21614835e-01, 9.12782322e-03,\n",
       "       1.49736039e-01, 6.14649457e-02, 7.58006493e-02, 2.02448911e+00,\n",
       "       4.42728368e-01, 4.48861915e-04, 2.00491839e-01, 4.37710420e-01,\n",
       "       3.39323167e-02, 5.90684636e-02, 2.33256352e-01, 8.80560510e-02,\n",
       "       1.09238703e-01, 3.75779538e-01, 1.04588362e-01, 1.04495958e-01,\n",
       "       1.29368750e-01, 1.06476622e-01, 1.80606062e-01, 1.68921753e-01,\n",
       "       2.74217310e-01, 7.66453440e-02, 8.56246188e-02, 1.88872015e-01,\n",
       "       7.51307191e-02, 1.73181588e-01, 2.44421186e-01, 2.89138687e+00,\n",
       "       2.17847753e-01, 3.05113536e-02, 1.69988419e-01, 1.14139137e-01,\n",
       "       3.72443948e-01, 4.41072124e-01, 1.76850433e-01, 4.41173568e-01,\n",
       "       9.41567351e-02, 4.41322218e-01, 1.49251805e-02, 4.34424046e-01,\n",
       "       4.42871997e-01, 1.86952823e-01, 6.21710429e-01, 1.46804011e-01,\n",
       "       3.49417319e-02, 2.09974315e-01, 3.58861539e-01, 1.23187803e-02,\n",
       "       7.96304004e-02, 1.72314797e-01, 2.98005358e-01, 2.64495992e-01,\n",
       "       2.41202106e-01, 1.96974454e-01, 3.25519908e-01, 2.03907780e-01,\n",
       "       6.79080399e-03, 1.11229614e-01, 4.39815628e-01, 9.97252944e-02,\n",
       "       5.86888030e-02, 1.97605213e-01, 8.01012572e-02, 1.65080954e-01,\n",
       "       3.36279972e-01, 1.96167926e-01, 1.06436446e-01, 3.58016845e-01,\n",
       "       1.68510956e-01, 9.51631370e-02, 1.24796753e-01, 4.41906775e-01,\n",
       "       4.41418640e-01, 3.53861670e-01, 1.56981731e-01, 4.30306237e-01,\n",
       "       4.42912172e-01, 4.42831821e-01, 4.42041364e-01, 4.20903109e-01,\n",
       "       1.34337616e+01])"
      ]
     },
     "execution_count": 101,
     "metadata": {},
     "output_type": "execute_result"
    }
   ],
   "source": [
    "z5"
   ]
  },
  {
   "cell_type": "markdown",
   "metadata": {},
   "source": [
    "Herebelow are outliers for Scheduled SLA"
   ]
  },
  {
   "cell_type": "code",
   "execution_count": 102,
   "metadata": {},
   "outputs": [
    {
     "name": "stdout",
     "output_type": "stream",
     "text": [
      "(array([216], dtype=int64),)\n"
     ]
    }
   ],
   "source": [
    "threshold=3\n",
    "print(np.where(z5>3))"
   ]
  },
  {
   "cell_type": "markdown",
   "metadata": {},
   "source": [
    "### HYPOTHESIS TESTING"
   ]
  },
  {
   "cell_type": "raw",
   "metadata": {},
   "source": [
    "# statement:\n",
    "    \n",
    "MTTR of High & Critical priority \n",
    "tickets are higher or greater than that of Low & \n",
    "Medium priority\n",
    "\n",
    "H0:MTTR of High & critical priority <= to MTTR of low and medium priority,\n",
    "Ha:MTTR of High & critical priority > to MTTR of low and medium priority\n",
    "\n",
    "in other words:\n",
    "        H0:|MTTR of High -MTTR of critical|<=|MTTR of low- medium|\n",
    "        Ha:|MTTR of High-critical|>| MTTR of low- medium|\n",
    "            \n",
    "           \n",
    "herebelow are means:\n",
    "priority\n",
    "1 - Critical           6655.750000\n",
    "2 - High               4097.687500\n",
    "3 - Moderate          28361.825239\n",
    "4 - Low               15959.263300\n",
    "5 - Scheduled SLA    441023.898618\n",
    "Name: MTTR, dtype: float64\n",
    "\n",
    "\n",
    "           N.B I have considered the absolute values of differences:\n",
    "           m1=mean difference of high and critical,\n",
    "           m2=mean difference of low and medium"
   ]
  },
  {
   "cell_type": "code",
   "execution_count": 103,
   "metadata": {},
   "outputs": [],
   "source": [
    "m1=data_high.mean()-data_critical.mean()"
   ]
  },
  {
   "cell_type": "code",
   "execution_count": 104,
   "metadata": {},
   "outputs": [
    {
     "data": {
      "text/plain": [
       "MTTR   -2558.0625\n",
       "dtype: float64"
      ]
     },
     "execution_count": 104,
     "metadata": {},
     "output_type": "execute_result"
    }
   ],
   "source": [
    "m1"
   ]
  },
  {
   "cell_type": "code",
   "execution_count": 105,
   "metadata": {},
   "outputs": [],
   "source": [
    "m2=data_moderate.mean()-data_low.mean()"
   ]
  },
  {
   "cell_type": "code",
   "execution_count": 106,
   "metadata": {},
   "outputs": [
    {
     "data": {
      "text/plain": [
       "MTTR    12402.561938\n",
       "dtype: float64"
      ]
     },
     "execution_count": 106,
     "metadata": {},
     "output_type": "execute_result"
    }
   ],
   "source": [
    "m2"
   ]
  },
  {
   "cell_type": "code",
   "execution_count": 107,
   "metadata": {},
   "outputs": [
    {
     "name": "stdout",
     "output_type": "stream",
     "text": [
      "nan\n",
      " fail to reject null hypothesis\n"
     ]
    },
    {
     "name": "stderr",
     "output_type": "stream",
     "text": [
      "C:\\ProgramData\\Anaconda3\\lib\\site-packages\\numpy\\core\\fromnumeric.py:3584: RuntimeWarning: Degrees of freedom <= 0 for slice\n",
      "  **kwargs)\n",
      "C:\\ProgramData\\Anaconda3\\lib\\site-packages\\numpy\\core\\_methods.py:209: RuntimeWarning: invalid value encountered in double_scalars\n",
      "  ret = ret.dtype.type(ret / rcount)\n",
      "C:\\ProgramData\\Anaconda3\\lib\\site-packages\\scipy\\stats\\_distn_infrastructure.py:903: RuntimeWarning: invalid value encountered in greater\n",
      "  return (a < x) & (x < b)\n",
      "C:\\ProgramData\\Anaconda3\\lib\\site-packages\\scipy\\stats\\_distn_infrastructure.py:903: RuntimeWarning: invalid value encountered in less\n",
      "  return (a < x) & (x < b)\n",
      "C:\\ProgramData\\Anaconda3\\lib\\site-packages\\scipy\\stats\\_distn_infrastructure.py:1912: RuntimeWarning: invalid value encountered in less_equal\n",
      "  cond2 = cond0 & (x <= _a)\n"
     ]
    }
   ],
   "source": [
    "ttest,pval=stats.ttest_rel((data_high.mean()-data_critical.mean()),data_moderate.mean()-data_low.mean())\n",
    "print(pval)\n",
    "if pval<0.05:\n",
    "    print('reject null hypothesis')\n",
    "else:\n",
    "    print(\" fail to reject null hypothesis\")"
   ]
  },
  {
   "cell_type": "code",
   "execution_count": 108,
   "metadata": {},
   "outputs": [
    {
     "name": "stdout",
     "output_type": "stream",
     "text": [
      "nan\n",
      " fail to reject null hypothesis\n"
     ]
    }
   ],
   "source": [
    "ttest,pval=stats.ttest_rel(m1,m2)\n",
    "print(pval)\n",
    "if pval<0.05:\n",
    "    print('reject null hypothesis')\n",
    "else:\n",
    "    print(\" fail to reject null hypothesis\")"
   ]
  },
  {
   "cell_type": "code",
   "execution_count": null,
   "metadata": {},
   "outputs": [],
   "source": []
  },
  {
   "cell_type": "code",
   "execution_count": null,
   "metadata": {},
   "outputs": [],
   "source": []
  }
 ],
 "metadata": {
  "kernelspec": {
   "display_name": "Python 3",
   "language": "python",
   "name": "python3"
  },
  "language_info": {
   "codemirror_mode": {
    "name": "ipython",
    "version": 3
   },
   "file_extension": ".py",
   "mimetype": "text/x-python",
   "name": "python",
   "nbconvert_exporter": "python",
   "pygments_lexer": "ipython3",
   "version": "3.7.6"
  }
 },
 "nbformat": 4,
 "nbformat_minor": 4
}
